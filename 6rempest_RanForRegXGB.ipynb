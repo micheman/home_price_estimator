{
 "cells": [
  {
   "cell_type": "code",
   "execution_count": 1,
   "metadata": {},
   "outputs": [],
   "source": [
    "# Model 3: Gradient Boosting Regressor/ Random Forest with XGBoost...\n",
    "import pandas as pd"
   ]
  },
  {
   "cell_type": "code",
   "execution_count": 2,
   "metadata": {},
   "outputs": [],
   "source": [
    "from numpy import loadtxt\n",
    "from sklearn.metrics import accuracy_score\n",
    "from sklearn.model_selection import train_test_split"
   ]
  },
  {
   "cell_type": "code",
   "execution_count": 3,
   "metadata": {},
   "outputs": [
    {
     "data": {
      "text/html": [
       "<div>\n",
       "<style scoped>\n",
       "    .dataframe tbody tr th:only-of-type {\n",
       "        vertical-align: middle;\n",
       "    }\n",
       "\n",
       "    .dataframe tbody tr th {\n",
       "        vertical-align: top;\n",
       "    }\n",
       "\n",
       "    .dataframe thead th {\n",
       "        text-align: right;\n",
       "    }\n",
       "</style>\n",
       "<table border=\"1\" class=\"dataframe\">\n",
       "  <thead>\n",
       "    <tr style=\"text-align: right;\">\n",
       "      <th></th>\n",
       "      <th>Beds</th>\n",
       "      <th>#Bath</th>\n",
       "      <th>#HlfBath</th>\n",
       "      <th>Gar</th>\n",
       "      <th>TCP</th>\n",
       "      <th>YB</th>\n",
       "      <th>Pool</th>\n",
       "      <th>SF</th>\n",
       "      <th>Acres</th>\n",
       "    </tr>\n",
       "  </thead>\n",
       "  <tbody>\n",
       "    <tr>\n",
       "      <th>0</th>\n",
       "      <td>2</td>\n",
       "      <td>1</td>\n",
       "      <td>1</td>\n",
       "      <td>0</td>\n",
       "      <td>0</td>\n",
       "      <td>1984</td>\n",
       "      <td>1</td>\n",
       "      <td>930</td>\n",
       "      <td>5.909</td>\n",
       "    </tr>\n",
       "    <tr>\n",
       "      <th>1</th>\n",
       "      <td>2</td>\n",
       "      <td>1</td>\n",
       "      <td>0</td>\n",
       "      <td>0</td>\n",
       "      <td>0</td>\n",
       "      <td>1997</td>\n",
       "      <td>0</td>\n",
       "      <td>1008</td>\n",
       "      <td>0.116</td>\n",
       "    </tr>\n",
       "    <tr>\n",
       "      <th>2</th>\n",
       "      <td>3</td>\n",
       "      <td>2</td>\n",
       "      <td>0</td>\n",
       "      <td>0</td>\n",
       "      <td>0</td>\n",
       "      <td>2008</td>\n",
       "      <td>0</td>\n",
       "      <td>1348</td>\n",
       "      <td>0.165</td>\n",
       "    </tr>\n",
       "    <tr>\n",
       "      <th>3</th>\n",
       "      <td>3</td>\n",
       "      <td>1</td>\n",
       "      <td>0</td>\n",
       "      <td>0</td>\n",
       "      <td>0</td>\n",
       "      <td>1977</td>\n",
       "      <td>0</td>\n",
       "      <td>858</td>\n",
       "      <td>0.170</td>\n",
       "    </tr>\n",
       "    <tr>\n",
       "      <th>4</th>\n",
       "      <td>3</td>\n",
       "      <td>2</td>\n",
       "      <td>0</td>\n",
       "      <td>2</td>\n",
       "      <td>2</td>\n",
       "      <td>1986</td>\n",
       "      <td>0</td>\n",
       "      <td>1492</td>\n",
       "      <td>0.127</td>\n",
       "    </tr>\n",
       "  </tbody>\n",
       "</table>\n",
       "</div>"
      ],
      "text/plain": [
       "   Beds  #Bath  #HlfBath  Gar  TCP    YB  Pool    SF  Acres\n",
       "0     2      1         1    0    0  1984     1   930  5.909\n",
       "1     2      1         0    0    0  1997     0  1008  0.116\n",
       "2     3      2         0    0    0  2008     0  1348  0.165\n",
       "3     3      1         0    0    0  1977     0   858  0.170\n",
       "4     3      2         0    2    2  1986     0  1492  0.127"
      ]
     },
     "execution_count": 3,
     "metadata": {},
     "output_type": "execute_result"
    }
   ],
   "source": [
    "pkl_file_name = \"DF_Short_Listings.pkl\"\n",
    "# pkl_file_name = \"DF_Long_Listings.pkl\")\n",
    "\n",
    "cmd = pd.read_pickle(pkl_file_name) # cmd: clean MLS data\n",
    "\n",
    "data = cmd.drop([\"Sold $\",\"MLS\",\"Address\",\"City\",\"Zip\",\"$/SF\",\\\n",
    "                 \"List $\",\"Sold Date\",\"SP%LP\",\"CDOM\"], axis=1)\n",
    "feature_names = data.columns\n",
    "target = cmd[\"Sold $\"]\n",
    "data.head()"
   ]
  },
  {
   "cell_type": "code",
   "execution_count": 4,
   "metadata": {},
   "outputs": [],
   "source": [
    "# split data into train and test sets\n",
    "seed = 7\n",
    "test_size = 0.33\n",
    "X_train, X_test, y_train, y_test = train_test_split(data, target, test_size=test_size, random_state=seed)"
   ]
  },
  {
   "cell_type": "code",
   "execution_count": 5,
   "metadata": {},
   "outputs": [],
   "source": [
    "# Create a random forest regressor\n",
    "from sklearn.ensemble import GradientBoostingRegressor\n",
    "\n",
    "gb = GradientBoostingRegressor(n_estimators=200, random_state=42)\n",
    "gb = gb.fit(X_train, y_train)"
   ]
  },
  {
   "cell_type": "code",
   "execution_count": 6,
   "metadata": {},
   "outputs": [
    {
     "name": "stdout",
     "output_type": "stream",
     "text": [
      "Gradient Boosting scores: train = 0.9960, test = 0.8137\n",
      "\n"
     ]
    }
   ],
   "source": [
    "GBscore_train = gb.score(X_train, y_train)\n",
    "GBscore_test = gb.score(X_test, y_test)\n",
    "\n",
    "stat_string = f'Gradient Boosting scores: train = {GBscore_train:.4f}, test = {GBscore_test:.4f}\\n'\n",
    "print(stat_string)"
   ]
  },
  {
   "cell_type": "code",
   "execution_count": 7,
   "metadata": {},
   "outputs": [],
   "source": [
    "stat_file_path = \"stats/rempest_stats.txt\"\n",
    "with open(stat_file_path,\"a\") as stats_file:\n",
    "    stats_file.write(stat_string)"
   ]
  },
  {
   "cell_type": "code",
   "execution_count": 8,
   "metadata": {},
   "outputs": [
    {
     "data": {
      "text/plain": [
       "[(0.652193382171072, 'SF'),\n",
       " (0.171455005210332, '#Bath'),\n",
       " (0.08719844180871497, 'Acres'),\n",
       " (0.05067250024577934, 'YB'),\n",
       " (0.020545630510814497, 'Gar'),\n",
       " (0.00789987335196857, '#HlfBath'),\n",
       " (0.007127759231100245, 'TCP'),\n",
       " (0.0016706386137111408, 'Beds'),\n",
       " (0.001236768856507168, 'Pool')]"
      ]
     },
     "execution_count": 8,
     "metadata": {},
     "output_type": "execute_result"
    }
   ],
   "source": [
    "# We can sort the features by their importance\n",
    "# Random Forests in sklearn will automatically calculate feature importance\n",
    "GB_Feature_Importance = sorted(zip(gb.feature_importances_, feature_names), reverse=True)\n",
    "# print(f'RFR Feature Importance: {RFR_Feature_Importance}')\n",
    "GB_Feature_Importance"
   ]
  },
  {
   "cell_type": "code",
   "execution_count": 9,
   "metadata": {},
   "outputs": [],
   "source": [
    "X_train2 = X_train[[x[1] for x in GB_Feature_Importance if x[0] > .005]]\n",
    "X_test2 = X_test[[x[1] for x in GB_Feature_Importance if x[0] > .005]]"
   ]
  },
  {
   "cell_type": "code",
   "execution_count": 10,
   "metadata": {},
   "outputs": [],
   "source": [
    "gb2 = GradientBoostingRegressor(n_estimators=200, random_state=42)\n",
    "gb2 = gb2.fit(X_train2, y_train)"
   ]
  },
  {
   "cell_type": "code",
   "execution_count": 11,
   "metadata": {},
   "outputs": [
    {
     "name": "stdout",
     "output_type": "stream",
     "text": [
      "Gradient Boosting w/drops scores:     train = 0.9961, test = 0.7965\n",
      "\n"
     ]
    }
   ],
   "source": [
    "GB2score_train2 = gb2.score(X_train2, y_train)\n",
    "GB2score_test2 = gb2.score(X_test2, y_test)\n",
    "\n",
    "stat_string = f'Gradient Boosting w/drops scores: \\\n",
    "    train = {GB2score_train2:.4f}, test = {GB2score_test2:.4f}\\n'\n",
    "print(stat_string)"
   ]
  },
  {
   "cell_type": "code",
   "execution_count": 12,
   "metadata": {},
   "outputs": [],
   "source": [
    "stat_file_path = \"stats/rempest_stats.txt\"\n",
    "with open(stat_file_path,\"a\") as stats_file:\n",
    "    stats_file.write(stat_string)"
   ]
  },
  {
   "cell_type": "code",
   "execution_count": null,
   "metadata": {},
   "outputs": [],
   "source": []
  },
  {
   "cell_type": "code",
   "execution_count": null,
   "metadata": {},
   "outputs": [],
   "source": []
  }
 ],
 "metadata": {
  "kernelspec": {
   "display_name": "Python 3",
   "language": "python",
   "name": "python3"
  },
  "language_info": {
   "codemirror_mode": {
    "name": "ipython",
    "version": 3
   },
   "file_extension": ".py",
   "mimetype": "text/x-python",
   "name": "python",
   "nbconvert_exporter": "python",
   "pygments_lexer": "ipython3",
   "version": "3.7.3"
  }
 },
 "nbformat": 4,
 "nbformat_minor": 2
}
