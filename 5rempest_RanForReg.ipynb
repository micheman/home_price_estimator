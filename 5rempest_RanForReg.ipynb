{
 "cells": [
  {
   "cell_type": "code",
   "execution_count": 1,
   "metadata": {},
   "outputs": [],
   "source": [
    "# Model #2: Random Forest Regressor\n",
    "import pandas as pd\n",
    "import matplotlib.pyplot as plt"
   ]
  },
  {
   "cell_type": "code",
   "execution_count": 2,
   "metadata": {},
   "outputs": [
    {
     "data": {
      "text/html": [
       "<div>\n",
       "<style scoped>\n",
       "    .dataframe tbody tr th:only-of-type {\n",
       "        vertical-align: middle;\n",
       "    }\n",
       "\n",
       "    .dataframe tbody tr th {\n",
       "        vertical-align: top;\n",
       "    }\n",
       "\n",
       "    .dataframe thead th {\n",
       "        text-align: right;\n",
       "    }\n",
       "</style>\n",
       "<table border=\"1\" class=\"dataframe\">\n",
       "  <thead>\n",
       "    <tr style=\"text-align: right;\">\n",
       "      <th></th>\n",
       "      <th>Beds</th>\n",
       "      <th>#Bath</th>\n",
       "      <th>#HlfBath</th>\n",
       "      <th>Gar</th>\n",
       "      <th>TCP</th>\n",
       "      <th>YB</th>\n",
       "      <th>Pool</th>\n",
       "      <th>SF</th>\n",
       "      <th>Acres</th>\n",
       "    </tr>\n",
       "  </thead>\n",
       "  <tbody>\n",
       "    <tr>\n",
       "      <th>0</th>\n",
       "      <td>2</td>\n",
       "      <td>1</td>\n",
       "      <td>1</td>\n",
       "      <td>0</td>\n",
       "      <td>0</td>\n",
       "      <td>1984</td>\n",
       "      <td>1</td>\n",
       "      <td>930</td>\n",
       "      <td>5.909</td>\n",
       "    </tr>\n",
       "    <tr>\n",
       "      <th>1</th>\n",
       "      <td>2</td>\n",
       "      <td>1</td>\n",
       "      <td>0</td>\n",
       "      <td>0</td>\n",
       "      <td>0</td>\n",
       "      <td>1997</td>\n",
       "      <td>0</td>\n",
       "      <td>1008</td>\n",
       "      <td>0.116</td>\n",
       "    </tr>\n",
       "    <tr>\n",
       "      <th>2</th>\n",
       "      <td>3</td>\n",
       "      <td>2</td>\n",
       "      <td>0</td>\n",
       "      <td>0</td>\n",
       "      <td>0</td>\n",
       "      <td>2008</td>\n",
       "      <td>0</td>\n",
       "      <td>1348</td>\n",
       "      <td>0.165</td>\n",
       "    </tr>\n",
       "    <tr>\n",
       "      <th>3</th>\n",
       "      <td>3</td>\n",
       "      <td>1</td>\n",
       "      <td>0</td>\n",
       "      <td>0</td>\n",
       "      <td>0</td>\n",
       "      <td>1977</td>\n",
       "      <td>0</td>\n",
       "      <td>858</td>\n",
       "      <td>0.170</td>\n",
       "    </tr>\n",
       "    <tr>\n",
       "      <th>4</th>\n",
       "      <td>3</td>\n",
       "      <td>2</td>\n",
       "      <td>0</td>\n",
       "      <td>2</td>\n",
       "      <td>2</td>\n",
       "      <td>1986</td>\n",
       "      <td>0</td>\n",
       "      <td>1492</td>\n",
       "      <td>0.127</td>\n",
       "    </tr>\n",
       "  </tbody>\n",
       "</table>\n",
       "</div>"
      ],
      "text/plain": [
       "   Beds  #Bath  #HlfBath  Gar  TCP    YB  Pool    SF  Acres\n",
       "0     2      1         1    0    0  1984     1   930  5.909\n",
       "1     2      1         0    0    0  1997     0  1008  0.116\n",
       "2     3      2         0    0    0  2008     0  1348  0.165\n",
       "3     3      1         0    0    0  1977     0   858  0.170\n",
       "4     3      2         0    2    2  1986     0  1492  0.127"
      ]
     },
     "execution_count": 2,
     "metadata": {},
     "output_type": "execute_result"
    }
   ],
   "source": [
    "pkl_file_name = \"DF_Short_Listings.pkl\"\n",
    "# pkl_file_name = \"DF_Long_Listings.pkl\")\n",
    "\n",
    "cmd = pd.read_pickle(pkl_file_name)\n",
    "\n",
    "data = cmd.drop([\"Sold $\",\"MLS\",\"Address\",\"City\",\"Zip\",\"$/SF\",\\\n",
    "                 \"List $\",\"Sold Date\",\"SP%LP\",\"CDOM\"], axis=1)\n",
    "feature_names = data.columns\n",
    "target = cmd[\"Sold $\"]\n",
    "data.head()"
   ]
  },
  {
   "cell_type": "code",
   "execution_count": 3,
   "metadata": {},
   "outputs": [],
   "source": [
    "from sklearn.model_selection import train_test_split\n",
    "from sklearn.ensemble import RandomForestRegressor\n",
    "X_train, X_test, y_train, y_test = train_test_split(data, target, random_state=42)"
   ]
  },
  {
   "cell_type": "code",
   "execution_count": 4,
   "metadata": {},
   "outputs": [],
   "source": [
    "# Create a random forest regressor model\n",
    "# rf = RandomForestRegressor(n_estimators=200, random_state=42) --> .976, .833\n",
    "rf = RandomForestRegressor(n_estimators=200) #                  --> .974, .845 == WASH\n",
    "rf = rf.fit(X_train, y_train)"
   ]
  },
  {
   "cell_type": "code",
   "execution_count": 5,
   "metadata": {},
   "outputs": [
    {
     "name": "stdout",
     "output_type": "stream",
     "text": [
      "Random Forest Model scores: train = 0.9752, test = 0.8428\n",
      "\n"
     ]
    }
   ],
   "source": [
    "RFR_train_score = rf.score(X_train, y_train)\n",
    "RFR_test_score = rf.score(X_test, y_test)\n",
    "\n",
    "stat_string = f'Random Forest Model scores: train = {RFR_train_score:.4f}, test = {RFR_test_score:.4f}\\n'\n",
    "print(stat_string)"
   ]
  },
  {
   "cell_type": "code",
   "execution_count": 6,
   "metadata": {},
   "outputs": [],
   "source": [
    "stat_file_path = \"stats/rempest_stats.txt\"\n",
    "with open(stat_file_path,\"a\") as stats_file:\n",
    "    stats_file.write(stat_string)"
   ]
  },
  {
   "cell_type": "code",
   "execution_count": 7,
   "metadata": {},
   "outputs": [
    {
     "data": {
      "text/plain": [
       "[(0.7783401106271931, 'SF'),\n",
       " (0.0829293036180256, 'Acres'),\n",
       " (0.05288814712776393, '#Bath'),\n",
       " (0.04275171782025506, 'YB'),\n",
       " (0.01402460846677643, 'Beds'),\n",
       " (0.012012056622358113, 'Gar'),\n",
       " (0.007827862201731582, '#HlfBath'),\n",
       " (0.007159934142403487, 'TCP'),\n",
       " (0.0020662593734927797, 'Pool')]"
      ]
     },
     "execution_count": 7,
     "metadata": {},
     "output_type": "execute_result"
    }
   ],
   "source": [
    "# We can sort the features by their importance\n",
    "# sklearn Random Forests automatically calculate feature importance\n",
    "RFR_Feature_Importance = sorted(zip(rf.feature_importances_,\\\n",
    "                                feature_names), reverse=True)\n",
    "RFR_Feature_Importance"
   ]
  },
  {
   "cell_type": "code",
   "execution_count": 8,
   "metadata": {},
   "outputs": [
    {
     "data": {
      "text/plain": [
       "['random_forest_model.joblib']"
      ]
     },
     "execution_count": 8,
     "metadata": {},
     "output_type": "execute_result"
    }
   ],
   "source": [
    "# Save the model\n",
    "from joblib import dump, load\n",
    "dump(rf, 'random_forest_model.joblib') "
   ]
  },
  {
   "cell_type": "code",
   "execution_count": null,
   "metadata": {},
   "outputs": [],
   "source": []
  }
 ],
 "metadata": {
  "kernelspec": {
   "display_name": "Python 3",
   "language": "python",
   "name": "python3"
  },
  "language_info": {
   "codemirror_mode": {
    "name": "ipython",
    "version": 3
   },
   "file_extension": ".py",
   "mimetype": "text/x-python",
   "name": "python",
   "nbconvert_exporter": "python",
   "pygments_lexer": "ipython3",
   "version": "3.7.3"
  }
 },
 "nbformat": 4,
 "nbformat_minor": 2
}
